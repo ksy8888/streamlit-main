{
 "cells": [
  {
   "cell_type": "code",
   "execution_count": 1,
   "id": "d1213340",
   "metadata": {},
   "outputs": [],
   "source": [
    "import pandas as pd"
   ]
  },
  {
   "cell_type": "code",
   "execution_count": 2,
   "id": "c9aba885",
   "metadata": {},
   "outputs": [],
   "source": [
    "df = pd.read_csv('./구매내역정보.csv',encoding = 'cp949')"
   ]
  },
  {
   "cell_type": "code",
   "execution_count": 3,
   "id": "0fe9d1db",
   "metadata": {},
   "outputs": [
    {
     "name": "stdout",
     "output_type": "stream",
     "text": [
      "               ID 상품대분류명     상품중분류명    구매지역      구매일자  구매시간  구매수량     구매금액  \\\n",
      "0       410362886   의류잡화  여성용의류-정장류  서울 송파구  20140510     1     1   198000   \n",
      "1       643279402     식품        농산물  경기 성남시  20140612     1     1     2000   \n",
      "2       643279402     식품        농산물  경기 성남시  20140612     1     1     4000   \n",
      "3       643279402     식품        농산물  경기 성남시  20140612     1     1     5000   \n",
      "4       643279402     식품        농산물  경기 성남시  20140612     1     1     9000   \n",
      "...           ...    ...        ...     ...       ...   ...   ...      ...   \n",
      "101687  797822538   가전제품    휴대폰/태블릿   서울 중구  20140528    22     1        0   \n",
      "101688  797822538   가전제품    휴대폰/태블릿   서울 중구  20140528    22     1     9000   \n",
      "101689  862978930    레포츠   스포츠용품/의류  서울 강서구  20140817    22     1    88000   \n",
      "101690  968743249   가전제품      TV/AV  경기 성남시  20141031    22     1  2569000   \n",
      "101691  980881628   의류잡화  남성용의류-캐주얼   서울 중구  20140815    22     1    50000   \n",
      "\n",
      "        취소여부  \n",
      "0          0  \n",
      "1          0  \n",
      "2          0  \n",
      "3          0  \n",
      "4          0  \n",
      "...      ...  \n",
      "101687     0  \n",
      "101688     0  \n",
      "101689     0  \n",
      "101690     0  \n",
      "101691     0  \n",
      "\n",
      "[101692 rows x 9 columns]\n"
     ]
    }
   ],
   "source": [
    "print(df)"
   ]
  },
  {
   "cell_type": "code",
   "execution_count": 34,
   "id": "ffbfddae",
   "metadata": {},
   "outputs": [
    {
     "ename": "SyntaxError",
     "evalue": "unexpected EOF while parsing (2112133706.py, line 2)",
     "output_type": "error",
     "traceback": [
      "\u001b[0;36m  Input \u001b[0;32mIn [34]\u001b[0;36m\u001b[0m\n\u001b[0;31m    print(i\u001b[0m\n\u001b[0m           ^\u001b[0m\n\u001b[0;31mSyntaxError\u001b[0m\u001b[0;31m:\u001b[0m unexpected EOF while parsing\n"
     ]
    }
   ],
   "source": [
    "for i in df.columns:\n",
    "    print(i"
   ]
  },
  {
   "cell_type": "code",
   "execution_count": 35,
   "id": "e68f5577",
   "metadata": {},
   "outputs": [],
   "source": [
    "data = df.select_dtypes(include = 'object')"
   ]
  },
  {
   "cell_type": "code",
   "execution_count": 36,
   "id": "9a270bc9",
   "metadata": {},
   "outputs": [
    {
     "data": {
      "text/html": [
       "<div>\n",
       "<style scoped>\n",
       "    .dataframe tbody tr th:only-of-type {\n",
       "        vertical-align: middle;\n",
       "    }\n",
       "\n",
       "    .dataframe tbody tr th {\n",
       "        vertical-align: top;\n",
       "    }\n",
       "\n",
       "    .dataframe thead th {\n",
       "        text-align: right;\n",
       "    }\n",
       "</style>\n",
       "<table border=\"1\" class=\"dataframe\">\n",
       "  <thead>\n",
       "    <tr style=\"text-align: right;\">\n",
       "      <th></th>\n",
       "      <th>상품대분류명</th>\n",
       "      <th>상품중분류명</th>\n",
       "      <th>구매지역</th>\n",
       "    </tr>\n",
       "  </thead>\n",
       "  <tbody>\n",
       "    <tr>\n",
       "      <th>0</th>\n",
       "      <td>의류잡화</td>\n",
       "      <td>여성용의류-정장류</td>\n",
       "      <td>서울 송파구</td>\n",
       "    </tr>\n",
       "    <tr>\n",
       "      <th>1</th>\n",
       "      <td>식품</td>\n",
       "      <td>농산물</td>\n",
       "      <td>경기 성남시</td>\n",
       "    </tr>\n",
       "    <tr>\n",
       "      <th>5</th>\n",
       "      <td>식품</td>\n",
       "      <td>음료</td>\n",
       "      <td>경기 성남시</td>\n",
       "    </tr>\n",
       "    <tr>\n",
       "      <th>6</th>\n",
       "      <td>의류잡화</td>\n",
       "      <td>남성용의류-캐주얼</td>\n",
       "      <td>경기 부천시</td>\n",
       "    </tr>\n",
       "    <tr>\n",
       "      <th>7</th>\n",
       "      <td>식품</td>\n",
       "      <td>음료</td>\n",
       "      <td>서울 중구</td>\n",
       "    </tr>\n",
       "    <tr>\n",
       "      <th>...</th>\n",
       "      <td>...</td>\n",
       "      <td>...</td>\n",
       "      <td>...</td>\n",
       "    </tr>\n",
       "    <tr>\n",
       "      <th>98264</th>\n",
       "      <td>가전제품</td>\n",
       "      <td>휴대폰/태블릿</td>\n",
       "      <td>서울 동작구</td>\n",
       "    </tr>\n",
       "    <tr>\n",
       "      <th>99950</th>\n",
       "      <td>가전제품</td>\n",
       "      <td>컴퓨터주변기기</td>\n",
       "      <td>부산 동래구</td>\n",
       "    </tr>\n",
       "    <tr>\n",
       "      <th>100927</th>\n",
       "      <td>가전제품</td>\n",
       "      <td>TV/AV</td>\n",
       "      <td>경기 남양주시</td>\n",
       "    </tr>\n",
       "    <tr>\n",
       "      <th>101592</th>\n",
       "      <td>가전제품</td>\n",
       "      <td>PC/노트북/프린터/카메라</td>\n",
       "      <td>경기 광명시</td>\n",
       "    </tr>\n",
       "    <tr>\n",
       "      <th>101675</th>\n",
       "      <td>가전제품</td>\n",
       "      <td>PC/노트북/프린터/카메라</td>\n",
       "      <td>서울 동작구</td>\n",
       "    </tr>\n",
       "  </tbody>\n",
       "</table>\n",
       "<p>923 rows × 3 columns</p>\n",
       "</div>"
      ],
      "text/plain": [
       "       상품대분류명          상품중분류명     구매지역\n",
       "0        의류잡화       여성용의류-정장류   서울 송파구\n",
       "1          식품             농산물   경기 성남시\n",
       "5          식품              음료   경기 성남시\n",
       "6        의류잡화       남성용의류-캐주얼   경기 부천시\n",
       "7          식품              음료    서울 중구\n",
       "...       ...             ...      ...\n",
       "98264    가전제품         휴대폰/태블릿   서울 동작구\n",
       "99950    가전제품         컴퓨터주변기기   부산 동래구\n",
       "100927   가전제품           TV/AV  경기 남양주시\n",
       "101592   가전제품  PC/노트북/프린터/카메라   경기 광명시\n",
       "101675   가전제품  PC/노트북/프린터/카메라   서울 동작구\n",
       "\n",
       "[923 rows x 3 columns]"
      ]
     },
     "execution_count": 36,
     "metadata": {},
     "output_type": "execute_result"
    }
   ],
   "source": [
    "data.drop_duplicates()"
   ]
  },
  {
   "cell_type": "code",
   "execution_count": 56,
   "id": "268e27b1",
   "metadata": {},
   "outputs": [
    {
     "name": "stdout",
     "output_type": "stream",
     "text": [
      "상품대분류명\n",
      "상품중분류명\n",
      "구매지역\n"
     ]
    }
   ],
   "source": [
    "for i in df.select_dtypes(include = 'object').columns:\n",
    "    print(i)"
   ]
  },
  {
   "cell_type": "code",
   "execution_count": 50,
   "id": "08354bee",
   "metadata": {},
   "outputs": [
    {
     "name": "stdout",
     "output_type": "stream",
     "text": [
      "의류잡화\n",
      "식품\n",
      "가전제품\n",
      "레포츠\n",
      "생활잡화\n",
      "가구\n",
      "명품\n"
     ]
    }
   ],
   "source": [
    "for i in df[col].drop_duplicates():\n",
    "    print(i)"
   ]
  },
  {
   "cell_type": "code",
   "execution_count": 58,
   "id": "b9020109",
   "metadata": {},
   "outputs": [
    {
     "data": {
      "text/plain": [
       "['의류잡화', '식품', '가전제품', '레포츠', '생활잡화', '가구', '명품']"
      ]
     },
     "execution_count": 58,
     "metadata": {},
     "output_type": "execute_result"
    }
   ],
   "source": [
    "list(df[col].drop_duplicates())"
   ]
  },
  {
   "cell_type": "code",
   "execution_count": 71,
   "id": "2bc3fe7a",
   "metadata": {},
   "outputs": [
    {
     "data": {
      "text/html": [
       "<div>\n",
       "<style scoped>\n",
       "    .dataframe tbody tr th:only-of-type {\n",
       "        vertical-align: middle;\n",
       "    }\n",
       "\n",
       "    .dataframe tbody tr th {\n",
       "        vertical-align: top;\n",
       "    }\n",
       "\n",
       "    .dataframe thead th {\n",
       "        text-align: right;\n",
       "    }\n",
       "</style>\n",
       "<table border=\"1\" class=\"dataframe\">\n",
       "  <thead>\n",
       "    <tr style=\"text-align: right;\">\n",
       "      <th></th>\n",
       "      <th>ID</th>\n",
       "      <th>상품대분류명</th>\n",
       "      <th>상품중분류명</th>\n",
       "      <th>구매지역</th>\n",
       "      <th>구매일자</th>\n",
       "      <th>구매시간</th>\n",
       "      <th>구매수량</th>\n",
       "      <th>구매금액</th>\n",
       "      <th>취소여부</th>\n",
       "    </tr>\n",
       "  </thead>\n",
       "  <tbody>\n",
       "    <tr>\n",
       "      <th>0</th>\n",
       "      <td>410362886</td>\n",
       "      <td>의류잡화</td>\n",
       "      <td>여성용의류-정장류</td>\n",
       "      <td>서울 송파구</td>\n",
       "      <td>20140510</td>\n",
       "      <td>1</td>\n",
       "      <td>1</td>\n",
       "      <td>198000</td>\n",
       "      <td>0</td>\n",
       "    </tr>\n",
       "    <tr>\n",
       "      <th>1</th>\n",
       "      <td>643279402</td>\n",
       "      <td>식품</td>\n",
       "      <td>농산물</td>\n",
       "      <td>경기 성남시</td>\n",
       "      <td>20140612</td>\n",
       "      <td>1</td>\n",
       "      <td>1</td>\n",
       "      <td>2000</td>\n",
       "      <td>0</td>\n",
       "    </tr>\n",
       "    <tr>\n",
       "      <th>2</th>\n",
       "      <td>643279402</td>\n",
       "      <td>식품</td>\n",
       "      <td>농산물</td>\n",
       "      <td>경기 성남시</td>\n",
       "      <td>20140612</td>\n",
       "      <td>1</td>\n",
       "      <td>1</td>\n",
       "      <td>4000</td>\n",
       "      <td>0</td>\n",
       "    </tr>\n",
       "    <tr>\n",
       "      <th>3</th>\n",
       "      <td>643279402</td>\n",
       "      <td>식품</td>\n",
       "      <td>농산물</td>\n",
       "      <td>경기 성남시</td>\n",
       "      <td>20140612</td>\n",
       "      <td>1</td>\n",
       "      <td>1</td>\n",
       "      <td>5000</td>\n",
       "      <td>0</td>\n",
       "    </tr>\n",
       "    <tr>\n",
       "      <th>4</th>\n",
       "      <td>643279402</td>\n",
       "      <td>식품</td>\n",
       "      <td>농산물</td>\n",
       "      <td>경기 성남시</td>\n",
       "      <td>20140612</td>\n",
       "      <td>1</td>\n",
       "      <td>1</td>\n",
       "      <td>9000</td>\n",
       "      <td>0</td>\n",
       "    </tr>\n",
       "    <tr>\n",
       "      <th>...</th>\n",
       "      <td>...</td>\n",
       "      <td>...</td>\n",
       "      <td>...</td>\n",
       "      <td>...</td>\n",
       "      <td>...</td>\n",
       "      <td>...</td>\n",
       "      <td>...</td>\n",
       "      <td>...</td>\n",
       "      <td>...</td>\n",
       "    </tr>\n",
       "    <tr>\n",
       "      <th>101686</th>\n",
       "      <td>797822538</td>\n",
       "      <td>가전제품</td>\n",
       "      <td>컴퓨터주변기기</td>\n",
       "      <td>서울 중구</td>\n",
       "      <td>20140528</td>\n",
       "      <td>22</td>\n",
       "      <td>1</td>\n",
       "      <td>9000</td>\n",
       "      <td>0</td>\n",
       "    </tr>\n",
       "    <tr>\n",
       "      <th>101687</th>\n",
       "      <td>797822538</td>\n",
       "      <td>가전제품</td>\n",
       "      <td>휴대폰/태블릿</td>\n",
       "      <td>서울 중구</td>\n",
       "      <td>20140528</td>\n",
       "      <td>22</td>\n",
       "      <td>1</td>\n",
       "      <td>0</td>\n",
       "      <td>0</td>\n",
       "    </tr>\n",
       "    <tr>\n",
       "      <th>101688</th>\n",
       "      <td>797822538</td>\n",
       "      <td>가전제품</td>\n",
       "      <td>휴대폰/태블릿</td>\n",
       "      <td>서울 중구</td>\n",
       "      <td>20140528</td>\n",
       "      <td>22</td>\n",
       "      <td>1</td>\n",
       "      <td>9000</td>\n",
       "      <td>0</td>\n",
       "    </tr>\n",
       "    <tr>\n",
       "      <th>101690</th>\n",
       "      <td>968743249</td>\n",
       "      <td>가전제품</td>\n",
       "      <td>TV/AV</td>\n",
       "      <td>경기 성남시</td>\n",
       "      <td>20141031</td>\n",
       "      <td>22</td>\n",
       "      <td>1</td>\n",
       "      <td>2569000</td>\n",
       "      <td>0</td>\n",
       "    </tr>\n",
       "    <tr>\n",
       "      <th>101691</th>\n",
       "      <td>980881628</td>\n",
       "      <td>의류잡화</td>\n",
       "      <td>남성용의류-캐주얼</td>\n",
       "      <td>서울 중구</td>\n",
       "      <td>20140815</td>\n",
       "      <td>22</td>\n",
       "      <td>1</td>\n",
       "      <td>50000</td>\n",
       "      <td>0</td>\n",
       "    </tr>\n",
       "  </tbody>\n",
       "</table>\n",
       "<p>81631 rows × 9 columns</p>\n",
       "</div>"
      ],
      "text/plain": [
       "               ID 상품대분류명     상품중분류명    구매지역      구매일자  구매시간  구매수량     구매금액  \\\n",
       "0       410362886   의류잡화  여성용의류-정장류  서울 송파구  20140510     1     1   198000   \n",
       "1       643279402     식품        농산물  경기 성남시  20140612     1     1     2000   \n",
       "2       643279402     식품        농산물  경기 성남시  20140612     1     1     4000   \n",
       "3       643279402     식품        농산물  경기 성남시  20140612     1     1     5000   \n",
       "4       643279402     식품        농산물  경기 성남시  20140612     1     1     9000   \n",
       "...           ...    ...        ...     ...       ...   ...   ...      ...   \n",
       "101686  797822538   가전제품    컴퓨터주변기기   서울 중구  20140528    22     1     9000   \n",
       "101687  797822538   가전제품    휴대폰/태블릿   서울 중구  20140528    22     1        0   \n",
       "101688  797822538   가전제품    휴대폰/태블릿   서울 중구  20140528    22     1     9000   \n",
       "101690  968743249   가전제품      TV/AV  경기 성남시  20141031    22     1  2569000   \n",
       "101691  980881628   의류잡화  남성용의류-캐주얼   서울 중구  20140815    22     1    50000   \n",
       "\n",
       "        취소여부  \n",
       "0          0  \n",
       "1          0  \n",
       "2          0  \n",
       "3          0  \n",
       "4          0  \n",
       "...      ...  \n",
       "101686     0  \n",
       "101687     0  \n",
       "101688     0  \n",
       "101690     0  \n",
       "101691     0  \n",
       "\n",
       "[81631 rows x 9 columns]"
      ]
     },
     "execution_count": 71,
     "metadata": {},
     "output_type": "execute_result"
    }
   ],
   "source": [
    "df[df['상품대분류명'].isin(value)]"
   ]
  },
  {
   "cell_type": "code",
   "execution_count": 62,
   "id": "5b4b091d",
   "metadata": {},
   "outputs": [],
   "source": [
    "value = ['의류잡화', '식품', '가전제품']"
   ]
  },
  {
   "cell_type": "code",
   "execution_count": null,
   "id": "c72e7c94",
   "metadata": {},
   "outputs": [],
   "source": []
  }
 ],
 "metadata": {
  "kernelspec": {
   "display_name": "Python 3 (ipykernel)",
   "language": "python",
   "name": "python3"
  },
  "language_info": {
   "codemirror_mode": {
    "name": "ipython",
    "version": 3
   },
   "file_extension": ".py",
   "mimetype": "text/x-python",
   "name": "python",
   "nbconvert_exporter": "python",
   "pygments_lexer": "ipython3",
   "version": "3.9.12"
  }
 },
 "nbformat": 4,
 "nbformat_minor": 5
}
